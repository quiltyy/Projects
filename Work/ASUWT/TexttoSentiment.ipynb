{
 "cells": [
  {
   "cell_type": "code",
   "execution_count": 1,
   "metadata": {},
   "outputs": [],
   "source": [
    "# Import Necessary Modules\n",
    "import pandas as pd\n",
    "from textblob import TextBlob"
   ]
  },
  {
   "cell_type": "code",
   "execution_count": 2,
   "metadata": {},
   "outputs": [
    {
     "name": "stdout",
     "output_type": "stream",
     "text": [
      "Columns in the DataFrame:\n",
      "Index(['HuskiesCare: What was your experience like using that resource?'], dtype='object')\n",
      "Average Sentiment: 0.25756172839506175\n",
      "Consensus Feeling: positive\n"
     ]
    }
   ],
   "source": [
    "def analyze_sentiment(text):\n",
    "    blob = TextBlob(text)\n",
    "    return blob.sentiment.polarity\n",
    "\n",
    "def main():\n",
    "    # Read the CSV file into a DataFrame\n",
    "    df = pd.read_csv('HuskieCare.csv')\n",
    "    \n",
    "    # Drop rows with NaN values (blank lines)\n",
    "    df.dropna(inplace=True)\n",
    "    \n",
    "    # Print the columns of the DataFrame\n",
    "    print(\"Columns in the DataFrame:\")\n",
    "    print(df.columns)\n",
    "    \n",
    "    # Analyze sentiment for each text in the DataFrame\n",
    "    sentiments = df[df.columns[0]].apply(analyze_sentiment)\n",
    "    \n",
    "    # Calculate average sentiment\n",
    "    average_sentiment = sentiments.mean()\n",
    "    \n",
    "    # Determine the consensus feeling based on average sentiment\n",
    "    if average_sentiment > 0.1:\n",
    "        consensus_feeling = \"positive\"\n",
    "    elif average_sentiment < -0.1:\n",
    "        consensus_feeling = \"negative\"\n",
    "    else:\n",
    "        consensus_feeling = \"neutral\"\n",
    "    \n",
    "    # Print results\n",
    "    print(f\"Average Sentiment: {average_sentiment}\")\n",
    "    print(f\"Consensus Feeling: {consensus_feeling}\")\n",
    "\n",
    "if __name__ == \"__main__\":\n",
    "    main()"
   ]
  },
  {
   "cell_type": "markdown",
   "metadata": {},
   "source": [
    "TODO: Create a run for each .csv and compile into Excel  \n",
    "\n",
    "STOP MESSING WITH THE CODE!\n",
    "\n",
    "CHERRY ON TOP THOUGH IS GETTING THE MAJOR FOCUS"
   ]
  },
  {
   "cell_type": "code",
   "execution_count": null,
   "metadata": {},
   "outputs": [],
   "source": []
  }
 ],
 "metadata": {
  "kernelspec": {
   "display_name": "Python 3",
   "language": "python",
   "name": "python3"
  },
  "language_info": {
   "codemirror_mode": {
    "name": "ipython",
    "version": 3
   },
   "file_extension": ".py",
   "mimetype": "text/x-python",
   "name": "python",
   "nbconvert_exporter": "python",
   "pygments_lexer": "ipython3",
   "version": "3.11.5"
  }
 },
 "nbformat": 4,
 "nbformat_minor": 2
}
