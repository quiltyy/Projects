{
 "cells": [
  {
   "cell_type": "markdown",
   "metadata": {},
   "source": [
    "## Code Wars\n",
    "A notebook of code wars questions and my solutions"
   ]
  },
  {
   "cell_type": "markdown",
   "metadata": {},
   "source": [
    "Given a string, you have to return a string in which each character (case-sensitive) is repeated once."
   ]
  },
  {
   "cell_type": "code",
   "execution_count": 8,
   "metadata": {},
   "outputs": [],
   "source": [
    "def double_char(s):\n",
    "    res = ''\n",
    "    for i in s:\n",
    "        res += i*2\n",
    "    print(res)\n",
    "\n",
    "double_char(\"String\")"
   ]
  },
  {
   "cell_type": "markdown",
   "metadata": {},
   "source": [
    "\n",
    "Bob is working as a bus driver. However, he has become extremely popular amongst the city's residents. With so many passengers wanting to get aboard his bus, he sometimes has to face the problem of not enough space left on the bus! He wants you to write a simple program telling him if he will be able to fit all the passengers.\n",
    "\n",
    "Task Overview:\n",
    "\n",
    "You have to write a function that accepts three parameters:\n",
    "\n",
    "cap is the amount of people the bus can hold excluding the driver.\n",
    "\n",
    "on is the number of people on the bus excluding the driver.\n",
    "\n",
    "wait is the number of people waiting to get on to the bus excluding the driver.\n",
    "\n",
    "\n",
    "If there is enough space, return 0, and if there isn't, return the number of passengers he can't take.\n",
    "\n"
   ]
  },
  {
   "cell_type": "code",
   "execution_count": 11,
   "metadata": {},
   "outputs": [],
   "source": [
    "def enough(cap, on, wait):\n",
    "    return max(on + wait - cap, 0)"
   ]
  }
 ],
 "metadata": {
  "kernelspec": {
   "display_name": "Python 3",
   "language": "python",
   "name": "python3"
  },
  "language_info": {
   "codemirror_mode": {
    "name": "ipython",
    "version": 3
   },
   "file_extension": ".py",
   "mimetype": "text/x-python",
   "name": "python",
   "nbconvert_exporter": "python",
   "pygments_lexer": "ipython3",
   "version": "3.11.5"
  }
 },
 "nbformat": 4,
 "nbformat_minor": 2
}
