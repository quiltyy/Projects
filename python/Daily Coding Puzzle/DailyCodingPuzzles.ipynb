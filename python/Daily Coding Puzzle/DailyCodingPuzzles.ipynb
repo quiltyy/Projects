{
 "cells": [
  {
   "cell_type": "markdown",
   "metadata": {},
   "source": [
    "## Daily Coding Challenges"
   ]
  },
  {
   "cell_type": "markdown",
   "metadata": {},
   "source": [
    "Given a list of numbers and a number k, return whether any two numbers from the list add up to k.\n",
    "\n",
    "For example, given [10, 15, 3, 7] and k of 17, return true since 10 + 7 is 17."
   ]
  },
  {
   "cell_type": "code",
   "execution_count": 1,
   "metadata": {},
   "outputs": [
    {
     "name": "stdout",
     "output_type": "stream",
     "text": [
      "True\n"
     ]
    }
   ],
   "source": [
    "def has_pair_with_sum(numbers, target_sum):\n",
    "    # Set to store the numbers needed to reach the target sum\n",
    "    seen = set()\n",
    "    \n",
    "    for num in numbers:\n",
    "        # If the current number is in the set, we have found a pair\n",
    "        if num in seen:\n",
    "            return True\n",
    "        # Add the number needed to reach the target sum with the current number\n",
    "        seen.add(target_sum - num)\n",
    "    \n",
    "    # If no pair is found, return False\n",
    "    return False\n",
    "\n",
    "# Example usage\n",
    "numbers = [10, 15, 3, 7]\n",
    "target_sum = 17\n",
    "\n",
    "print(has_pair_with_sum(numbers, target_sum))"
   ]
  },
  {
   "cell_type": "markdown",
   "metadata": {},
   "source": [
    "This problem was asked by Uber.\n",
    "\n",
    "Given an array of integers, return a new array such that each element at index i of the new array is the product of all the numbers in the original array except the one at i.\n",
    "\n",
    "For example, if our input was [1, 2, 3, 4, 5], the expected output would be [120, 60, 40, 30, 24]. If our input was [3, 2, 1], the expected output would be [2, 3, 6]."
   ]
  },
  {
   "cell_type": "code",
   "execution_count": 30,
   "metadata": {},
   "outputs": [
    {
     "data": {
      "text/plain": [
       "[720, 360, 240, 180, 144, 120]"
      ]
     },
     "execution_count": 30,
     "metadata": {},
     "output_type": "execute_result"
    }
   ],
   "source": [
    "def product_array(nums):\n",
    "    # Calculate the product of all non-zero elements and count zeros\n",
    "    total_product = 1\n",
    "    zero_count = 0\n",
    "    for num in nums:\n",
    "        if num != 0:\n",
    "            total_product *= num\n",
    "        else:\n",
    "            zero_count += 1\n",
    "\n",
    "    # If more than one zero, all elements in the result will be zero\n",
    "    if zero_count > 1:\n",
    "        return [0] * len(nums)\n",
    "    \n",
    "    # If exactly one zero, all elements except one will be zero\n",
    "    result = []\n",
    "    if zero_count == 1:\n",
    "        for num in nums:\n",
    "            if num == 0:\n",
    "                result.append(total_product)  # Product of all non-zero elements\n",
    "            else:\n",
    "                result.append(0)\n",
    "        return result\n",
    "    \n",
    "    # If no zeros, divide total product by each element\n",
    "    return [total_product // num for num in nums]\n",
    "\n",
    "product_array([1,2,3,4,5,6])\n",
    "\n",
    "\n"
   ]
  },
  {
   "cell_type": "code",
   "execution_count": null,
   "metadata": {},
   "outputs": [],
   "source": []
  },
  {
   "cell_type": "code",
   "execution_count": null,
   "metadata": {},
   "outputs": [],
   "source": []
  },
  {
   "cell_type": "code",
   "execution_count": 28,
   "metadata": {},
   "outputs": [
    {
     "data": {
      "text/plain": [
       "[1, 3, 4]"
      ]
     },
     "execution_count": 28,
     "metadata": {},
     "output_type": "execute_result"
    }
   ],
   "source": []
  },
  {
   "cell_type": "code",
   "execution_count": 29,
   "metadata": {},
   "outputs": [
    {
     "data": {
      "text/plain": [
       "[1, 3, 4]"
      ]
     },
     "execution_count": 29,
     "metadata": {},
     "output_type": "execute_result"
    }
   ],
   "source": []
  },
  {
   "cell_type": "code",
   "execution_count": null,
   "metadata": {},
   "outputs": [],
   "source": []
  }
 ],
 "metadata": {
  "kernelspec": {
   "display_name": "Python 3",
   "language": "python",
   "name": "python3"
  },
  "language_info": {
   "codemirror_mode": {
    "name": "ipython",
    "version": 3
   },
   "file_extension": ".py",
   "mimetype": "text/x-python",
   "name": "python",
   "nbconvert_exporter": "python",
   "pygments_lexer": "ipython3",
   "version": "3.11.5"
  }
 },
 "nbformat": 4,
 "nbformat_minor": 2
}
