{
 "cells": [
  {
   "cell_type": "markdown",
   "id": "e4ab9068",
   "metadata": {},
   "source": [
    "# Using print() to display messages"
   ]
  },
  {
   "cell_type": "code",
   "execution_count": 3,
   "id": "eaba1652",
   "metadata": {},
   "outputs": [
    {
     "name": "stdout",
     "output_type": "stream",
     "text": [
      "Hi, welcome to the Python Data Analysis and Visualization course\n"
     ]
    }
   ],
   "source": [
    "print(\"Hi, welcome to the Python Data Analysis and Visualization course\")"
   ]
  },
  {
   "cell_type": "code",
   "execution_count": 4,
   "id": "1cad3496",
   "metadata": {
    "scrolled": true
   },
   "outputs": [
    {
     "name": "stdout",
     "output_type": "stream",
     "text": [
      "First message\n",
      "Second message\n",
      "Third message\n"
     ]
    }
   ],
   "source": [
    "print(\"First message\")\n",
    "print(\"Second message\")\n",
    "print(\"Third message\")"
   ]
  },
  {
   "cell_type": "code",
   "execution_count": 5,
   "id": "3da5f47b",
   "metadata": {},
   "outputs": [],
   "source": [
    "x = \"Hello, World!\""
   ]
  },
  {
   "cell_type": "code",
   "execution_count": 6,
   "id": "ac2d0283",
   "metadata": {},
   "outputs": [
    {
     "name": "stdout",
     "output_type": "stream",
     "text": [
      "Hello, World!\n"
     ]
    }
   ],
   "source": [
    "print(x)"
   ]
  },
  {
   "cell_type": "code",
   "execution_count": 8,
   "id": "24ba1779",
   "metadata": {},
   "outputs": [],
   "source": [
    "import numpy as np\n",
    "import matplotlib.pyplot as plt\n",
    "import pandas as pd"
   ]
  },
  {
   "cell_type": "code",
   "execution_count": 9,
   "id": "8d146a85",
   "metadata": {},
   "outputs": [
    {
     "data": {
      "text/plain": [
       "array([0, 1, 2, 3, 4, 5, 6])"
      ]
     },
     "execution_count": 9,
     "metadata": {},
     "output_type": "execute_result"
    }
   ],
   "source": [
    "np.arange(7)"
   ]
  },
  {
   "cell_type": "code",
   "execution_count": null,
   "id": "f96ae452",
   "metadata": {},
   "outputs": [],
   "source": []
  }
 ],
 "metadata": {
  "kernelspec": {
   "display_name": "Python 3 (ipykernel)",
   "language": "python",
   "name": "python3"
  },
  "language_info": {
   "codemirror_mode": {
    "name": "ipython",
    "version": 3
   },
   "file_extension": ".py",
   "mimetype": "text/x-python",
   "name": "python",
   "nbconvert_exporter": "python",
   "pygments_lexer": "ipython3",
   "version": "3.9.13"
  }
 },
 "nbformat": 4,
 "nbformat_minor": 5
}
