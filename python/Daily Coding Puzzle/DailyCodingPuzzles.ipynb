{
 "cells": [
  {
   "cell_type": "markdown",
   "metadata": {},
   "source": [
    "## Daily Coding Challenges"
   ]
  },
  {
   "cell_type": "markdown",
   "metadata": {},
   "source": [
    "Given a list of numbers and a number k, return whether any two numbers from the list add up to k.\n",
    "\n",
    "For example, given [10, 15, 3, 7] and k of 17, return true since 10 + 7 is 17."
   ]
  },
  {
   "cell_type": "code",
   "execution_count": 1,
   "metadata": {},
   "outputs": [
    {
     "name": "stdout",
     "output_type": "stream",
     "text": [
      "True\n"
     ]
    }
   ],
   "source": [
    "def has_pair_with_sum(numbers, target_sum):\n",
    "    # Set to store the numbers needed to reach the target sum\n",
    "    seen = set()\n",
    "    \n",
    "    for num in numbers:\n",
    "        # If the current number is in the set, we have found a pair\n",
    "        if num in seen:\n",
    "            return True\n",
    "        # Add the number needed to reach the target sum with the current number\n",
    "        seen.add(target_sum - num)\n",
    "    \n",
    "    # If no pair is found, return False\n",
    "    return False\n",
    "\n",
    "# Example usage\n",
    "numbers = [10, 15, 3, 7]\n",
    "target_sum = 17\n",
    "\n",
    "print(has_pair_with_sum(numbers, target_sum))"
   ]
  },
  {
   "cell_type": "code",
   "execution_count": null,
   "metadata": {},
   "outputs": [],
   "source": []
  }
 ],
 "metadata": {
  "kernelspec": {
   "display_name": "Python 3",
   "language": "python",
   "name": "python3"
  },
  "language_info": {
   "codemirror_mode": {
    "name": "ipython",
    "version": 3
   },
   "file_extension": ".py",
   "mimetype": "text/x-python",
   "name": "python",
   "nbconvert_exporter": "python",
   "pygments_lexer": "ipython3",
   "version": "3.11.5"
  }
 },
 "nbformat": 4,
 "nbformat_minor": 2
}
